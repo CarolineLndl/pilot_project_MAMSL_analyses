{
 "cells": [
  {
   "cell_type": "code",
   "execution_count": 1,
   "metadata": {},
   "outputs": [
    {
     "name": "stdout",
     "output_type": "stream",
     "text": [
      "Original: (1, 2) -> Rotated: (-0.13, 2.23)\n",
      "Original: (2, 4) -> Rotated: (-0.27, 4.46)\n",
      "Original: (3, 5) -> Rotated: (0.10, 5.83)\n",
      "Original: (4, 4) -> Rotated: (1.46, 5.46)\n",
      "Original: (5, 6) -> Rotated: (1.33, 7.70)\n"
     ]
    }
   ],
   "source": [
    "import numpy as np\n",
    "\n",
    "# Example movement data as arrays\n",
    "original_x = np.array([1, 2, 3, 4, 5])\n",
    "original_y = np.array([2, 4, 5, 4, 6])\n",
    "\n",
    "# Convert angle to radians\n",
    "angle_degrees = 30\n",
    "angle_radians = np.radians(angle_degrees)\n",
    "\n",
    "# Calculate new x and y positions after rotation\n",
    "new_x = original_x * np.cos(angle_radians) - original_y * np.sin(angle_radians)\n",
    "new_y = original_x * np.sin(angle_radians) + original_y * np.cos(angle_radians)\n",
    "\n",
    "# Print the new positions\n",
    "for i in range(len(new_x)):\n",
    "    print(f\"Original: ({original_x[i]}, {original_y[i]}) -> Rotated: ({new_x[i]:.2f}, {new_y[i]:.2f})\")\n"
   ]
  },
  {
   "cell_type": "code",
   "execution_count": 5,
   "metadata": {},
   "outputs": [
    {
     "data": {
      "text/plain": [
       "[<matplotlib.lines.Line2D at 0x7f34781e5978>]"
      ]
     },
     "execution_count": 5,
     "metadata": {},
     "output_type": "execute_result"
    },
    {
     "data": {
      "image/png": "[encoded data removed]",
      "text/plain": [
       "<Figure size 432x288 with 1 Axes>"
      ]
     },
     "metadata": {
      "needs_background": "light"
     },
     "output_type": "display_data"
    }
   ],
   "source": [
    "import matplotlib.pyplot as plt\n",
    "%matplotlib inline\n",
    "plt.plot(original_x,original_y)\n",
    "plt.plot(new_x,new_y)"
   ]
  },
  {
   "cell_type": "code",
   "execution_count": null,
   "metadata": {},
   "outputs": [],
   "source": []
  }
 ],
 "metadata": {
  "kernelspec": {
   "display_name": "Python 3",
   "language": "python",
   "name": "python3"
  },
  "language_info": {
   "codemirror_mode": {
    "name": "ipython",
    "version": 3
   },
   "file_extension": ".py",
   "mimetype": "text/x-python",
   "name": "python",
   "nbconvert_exporter": "python",
   "pygments_lexer": "ipython3",
   "version": "3.6.9"
  }
 },
 "nbformat": 4,
 "nbformat_minor": 4
}
