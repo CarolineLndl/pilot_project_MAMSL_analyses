{
 "cells": [
  {
   "cell_type": "markdown",
   "metadata": {},
   "source": [
    "## <font color=#B2D732> <span style=\"background-color: #4424D6\"> Imports"
   ]
  },
  {
   "cell_type": "code",
   "execution_count": 45,
   "metadata": {},
   "outputs": [
    {
     "name": "stdout",
     "output_type": "stream",
     "text": [
      "The autoreload extension is already loaded. To reload it, use:\n",
      "  %reload_ext autoreload\n"
     ]
    }
   ],
   "source": [
    "import sys,json\n",
    "import glob, os\n",
    "import pandas as pd\n",
    "sys.path.append(\"/cerebro/cerebro1/dataset/caroline/2023_pilot_MA-MSL/derivatives/pilot_project_MAMSL_analyses/code/\")\n",
    "\n",
    "\n",
    "from convert_data import Convert_data\n",
    "\n",
    "%matplotlib inline\n",
    "%load_ext autoreload\n",
    "%autoreload 2"
   ]
  },
  {
   "cell_type": "markdown",
   "metadata": {},
   "source": [
    "## <font color=#B2D732> <span style=\"background-color: #4424D6\"> A/ Initialization"
   ]
  },
  {
   "cell_type": "markdown",
   "metadata": {},
   "source": [
    " ### <font color=#4424D6> I. Configuration & parameters </font >"
   ]
  },
  {
   "cell_type": "code",
   "execution_count": 46,
   "metadata": {},
   "outputs": [
    {
     "name": "stdout",
     "output_type": "stream",
     "text": [
      "Data for subjects sub-008 can be found here: /cerebro/cerebro1/dataset/caroline/2023_pilot_MA-MSL//derivatives/data//sub-008\n",
      "/cerebro/cerebro1/dataset/caroline/2023_pilot_MA-MSL//rawdata//sub-008/sess01/sub-008_20230801_133421_trial.dat\n",
      "fam1\n",
      "/cerebro/cerebro1/dataset/caroline/2023_pilot_MA-MSL//rawdata//sub-008/sess01/sub-008_20230801_133556_trial.dat\n",
      "fam2\n",
      "/cerebro/cerebro1/dataset/caroline/2023_pilot_MA-MSL//rawdata//sub-008/sess01/sub-008_20230801_133707_trial.dat\n",
      "RNDpre\n",
      "/cerebro/cerebro1/dataset/caroline/2023_pilot_MA-MSL//rawdata//sub-008/sess01/sub-008_20230801_134210_trial.dat\n",
      "MA\n",
      "/cerebro/cerebro1/dataset/caroline/2023_pilot_MA-MSL//rawdata//sub-008/sess01/sub-008_20230801_140656_trial.dat\n",
      "RNDpost\n"
     ]
    }
   ],
   "source": [
    "# Load config file ------------------------------------------------------------\n",
    "with open('../config/config_MAMSL.json') as config_file: # the notebook should be in 'xx/notebook/' folder #config_proprio\n",
    "    config = json.load(config_file) # load config file should be open first and the path inside modified\n",
    "\n",
    "data=Convert_data(config) # initialize the function"
   ]
  },
  {
   "cell_type": "markdown",
   "metadata": {},
   "source": [
    " ### <font color=#4424D6> II. Read raw data </font >"
   ]
  },
  {
   "cell_type": "code",
   "execution_count": 47,
   "metadata": {},
   "outputs": [],
   "source": [
    "filename={};movement_data={};movement_df={};movement_filter_df={};dataframe_filename={}\n",
    "for subject_name in config[\"list_subjects\"]:\n",
    "    filename[subject_name]={};movement_data[subject_name]={};movement_df[subject_name]={};movement_filter_df[subject_name]={};dataframe_filename[subject_name]={}\n",
    "    \n",
    "    for sess_nb in range(0,len(config[\"list_subjects\"][subject_name])):\n",
    "        sess=config[\"list_subjects\"][subject_name][\"sess0\" + str(sess_nb+1)] # name of the session for that participant\n",
    "        filename[subject_name][sess]={};movement_data[subject_name][sess]={};movement_df[subject_name][sess]={};movement_filter_df[subject_name][sess]={};dataframe_filename[subject_name][sess]={}\n",
    "        \n",
    "        for run_name in config[\"subjects_acq\"][subject_name][\"sess0\" + str(sess_nb+1)]:#runs[subject_name][\"sess0\" + str(sess_nb+1)]:\n",
    "            print(run_name)\n",
    "            filename[subject_name][sess][run_name]=config[\"main_dir\"] + config[\"data_dir\"] + \"/\" + subject_name + \"/sess_\"+ sess + \"/\" + run_name + \"/\" + subject_name+ \"_sess0\"+str(sess_nb+1) + \"_\" + run_name +\"_movement.bin\"\n",
    "            dataframe_filename[subject_name][sess][run_name]=config[\"main_dir\"] + config[\"data_dir\"] + \"/\" + subject_name + \"/sess_\"+ sess + \"/\" + run_name + \"/\" + subject_name+ \"_sess0\"+str(sess_nb+1) + \"_\" + run_name +\"_movement.csv\"\n",
    "            \n",
    "            if not os.path.exists(dataframe_filename[subject_name][sess][run_name]):\n",
    "                movement_data[subject_name][sess][run_name],movement_df[subject_name][sess][run_name]=data.read_movement(subject_name,\n",
    "                                                                                                                     data_filename=filename[subject_name][sess][run_name])\n",
    "    \n",
    "                \n",
    "                movement_filter_df[subject_name][sess][run_name]=data.filter_movement(movement_df[subject_name][sess][run_name],output_file=dataframe_filename[subject_name][sess][run_name])"
   ]
  },
  {
   "cell_type": "markdown",
   "metadata": {},
   "source": [
    " ### <font color=#4424D6> III. Plot  </font >"
   ]
  },
  {
   "cell_type": "code",
   "execution_count": 52,
   "metadata": {},
   "outputs": [
    {
     "data": {
      "image/png": "[encoded data removed]",
      "text/plain": [
       "<Figure size 432x288 with 1 Axes>"
      ]
     },
     "metadata": {
      "needs_background": "light"
     },
     "output_type": "display_data"
    }
   ],
   "source": [
    "for subject_name in config[\"list_subjects\"]:\n",
    "    for sess_nb in range(0,1):#len(config[\"list_subjects\"][subject_name])):\n",
    "        sess=config[\"list_subjects\"][subject_name][\"sess0\" + str(sess_nb+1)]\n",
    "        for run_name in ['RNDpost',\"MA\"]:#config[\"subjects_acq\"][subject_name][\"sess0\" + str(sess_nb+1)]:#runs[subject_name][\"sess0\" + str(sess_nb+1)]:\n",
    "            \n",
    "            ana_dir=config[\"main_dir\"] + config[\"data_dir\"] + \"/\" + subject_name + \"/sess_\"+ sess+ \"/\" + run_name \n",
    "            movie_file=ana_dir +\"/\"+ subject_name + \"_\"+sess+\"_\"+run_name + \"_trials_movie.avi\"\n",
    "\n",
    "            \n",
    "            if not os.path.exists(movie_file):\n",
    "                data.plot_trial(subject_name,sess,run_name,create_movie=True)#,trial_range=range(100,120))\n",
    "           "
   ]
  },
  {
   "cell_type": "code",
   "execution_count": 54,
   "metadata": {},
   "outputs": [],
   "source": [
    "# Create a new dataframe to manually enter a value for the trials to be delated\n",
    "for subject_name in config[\"list_subjects\"]:\n",
    "    for sess_nb in range(0,len(config[\"list_subjects\"][subject_name])):\n",
    "        sess=config[\"list_subjects\"][subject_name][\"sess0\" + str(sess_nb+1)]\n",
    "        for run_name in config[\"subjects_acq\"][subject_name][\"sess0\" + str(sess_nb+1)]:#runs[subject_name][\"sess0\" + str(sess_nb+1)]:\n",
    "\n",
    "            trial_filename=glob.glob(config[\"main_dir\"] + config[\"data_dir\"] + \"/\" + subject_name + \"/sess_\"+ sess+ \"/\" + run_name + \"/*trial.dat\")[0]\n",
    "            trial_df=pd.read_csv(trial_filename,delimiter=\" \")\n",
    "            trial_df[\"remove_trial\"]=0;trial_df[\"remove_seq\"]=0;trial_df[\"run_name\"]=run_name\n",
    "            trial_df_new=trial_df[[\"subject\",\"run_name\",\"trial\",\"remove_trial\",\"remove_seq\",\"trialInSeq\",\"seqInBlock\",\"block\",\"target.angle\",\"targetHit\",\"t.move\",\"t.hit\"]] \n",
    "            output_file=trial_filename.split(\".\")[0] + \"filter.csv\"\n",
    "            if not os.path.exists(output_file):\n",
    "                trial_df_new.to_csv(output_file, index=False)"
   ]
  },
  {
   "cell_type": "code",
   "execution_count": null,
   "metadata": {},
   "outputs": [],
   "source": []
  }
 ],
 "metadata": {
  "kernelspec": {
   "display_name": "Python 3",
   "language": "python",
   "name": "python3"
  },
  "language_info": {
   "codemirror_mode": {
    "name": "ipython",
    "version": 3
   },
   "file_extension": ".py",
   "mimetype": "text/x-python",
   "name": "python",
   "nbconvert_exporter": "python",
   "pygments_lexer": "ipython3",
   "version": "3.6.9"
  }
 },
 "nbformat": 4,
 "nbformat_minor": 5
}
