{
 "cells": [
  {
   "cell_type": "markdown",
   "metadata": {},
   "source": [
    "## <font color=#B2D732> <span style=\"background-color: #4424D6\"> Imports"
   ]
  },
  {
   "cell_type": "code",
   "execution_count": 9,
   "metadata": {},
   "outputs": [
    {
     "name": "stdout",
     "output_type": "stream",
     "text": [
      "The autoreload extension is already loaded. To reload it, use:\n",
      "  %reload_ext autoreload\n"
     ]
    }
   ],
   "source": [
    "import sys,json\n",
    "import glob, os\n",
    "import pandas as pd\n",
    "sys.path.append(\"/cerebro/cerebro1/dataset/caroline/2023_pilot_MA-MSL/derivatives/pilot_project_MAMSL_analyses/code/\")\n",
    "\n",
    "\n",
    "from convert_data import Convert_data\n",
    "from matplotlib import cm\n",
    "import numpy as np\n",
    "import matplotlib.pyplot as plt\n",
    "\n",
    "%matplotlib inline\n",
    "%load_ext autoreload\n",
    "%autoreload 2"
   ]
  },
  {
   "cell_type": "markdown",
   "metadata": {},
   "source": [
    "## <font color=#B2D732> <span style=\"background-color: #4424D6\"> A/ Initialization"
   ]
  },
  {
   "cell_type": "markdown",
   "metadata": {},
   "source": [
    " ### <font color=#4424D6> I. Configuration & parameters </font >"
   ]
  },
  {
   "cell_type": "code",
   "execution_count": 19,
   "metadata": {},
   "outputs": [
    {
     "name": "stdout",
     "output_type": "stream",
     "text": [
      "Data for subjects sub-017 can be found here: /cerebro/cerebro1/dataset/caroline/2023_pilot_MA-MSL//derivatives/data//sub-017\n"
     ]
    }
   ],
   "source": [
    "# Load config file ------------------------------------------------------------\n",
    "with open('../config/config_MAMSL.json') as config_file: # the notebook should be in 'xx/notebook/' folder #config_proprio\n",
    "    config = json.load(config_file) # load config file should be open first and the path inside modified\n",
    "\n",
    "data=Convert_data(config) # initialize the function"
   ]
  },
  {
   "cell_type": "markdown",
   "metadata": {},
   "source": [
    " ### <font color=#4424D6> II. Read raw data </font >"
   ]
  },
  {
   "cell_type": "code",
   "execution_count": 20,
   "metadata": {},
   "outputs": [],
   "source": [
    "filename={};movement_data={};movement_df={};movement_filter_df={};dataframe_filename={};trial_file={}\n",
    "for subject_name in config[\"list_subjects\"]:\n",
    "    filename[subject_name]={};movement_data[subject_name]={};movement_df[subject_name]={};movement_filter_df[subject_name]={};dataframe_filename[subject_name]={};trial_file[subject_name]={}\n",
    "    \n",
    "    for sess_nb in range(0,len(config[\"list_subjects\"][subject_name])):\n",
    "        sess=config[\"list_subjects\"][subject_name][\"sess0\" + str(sess_nb+1)] # name of the session for that participant\n",
    "        filename[subject_name][sess]={};movement_data[subject_name][sess]={};movement_df[subject_name][sess]={};movement_filter_df[subject_name][sess]={};dataframe_filename[subject_name][sess]={}\n",
    "        trial_file[subject_name][sess]={};\n",
    "        for run_name in config[\"subjects_acq\"][subject_name][\"sess0\" + str(sess_nb+1)]:#runs[subject_name][\"sess0\" + str(sess_nb+1)]:\n",
    "            filename[subject_name][sess][run_name]=config[\"main_dir\"] + config[\"data_dir\"] + \"/\" + subject_name + \"/sess_\"+ sess + \"/\" + run_name + \"/\" + subject_name+ \"_sess0\"+str(sess_nb+1) + \"_\" + run_name +\"_movement.bin\"\n",
    "            dataframe_filename[subject_name][sess][run_name]=config[\"main_dir\"] + config[\"data_dir\"] + \"/\" + subject_name + \"/sess_\"+ sess + \"/\" + run_name + \"/\" + subject_name+ \"_sess0\"+str(sess_nb+1) + \"_\" + run_name +\"_movement.csv\"\n",
    "            trial_file[subject_name][sess][run_name]=config[\"main_dir\"] + config[\"data_dir\"] + \"/\" + subject_name + \"/sess_\"+ sess + \"/\" + run_name + \"/\" + subject_name+ \"_sess0\"+str(sess_nb+1) + \"_\" + run_name +\"_trial.dat\"\n",
    "            if not os.path.exists(dataframe_filename[subject_name][sess][run_name]):\n",
    "\n",
    "                    movement_data[subject_name][sess][run_name],movement_df[subject_name][sess][run_name]=data.read_movement(subject_name,\n",
    "                                                                                                                     data_filename=filename[subject_name][sess][run_name])\n",
    "    \n",
    "                \n",
    "                    movement_filter_df[subject_name][sess][run_name]=data.filter_movement(movement_df[subject_name][sess][run_name],trial_file[subject_name][sess][run_name],run_name,output_file=dataframe_filename[subject_name][sess][run_name])\n"
   ]
  },
  {
   "cell_type": "code",
   "execution_count": 83,
   "metadata": {},
   "outputs": [
    {
     "data": {
      "text/plain": [
       "(-1.0, 1.2)"
      ]
     },
     "execution_count": 83,
     "metadata": {},
     "output_type": "execute_result"
    },
    {
     "data": {
      "image/png": "[encoded data removed]",
      "text/plain": [
       "<Figure size 432x288 with 1 Axes>"
      ]
     },
     "metadata": {
      "needs_background": "light"
     },
     "output_type": "display_data"
    }
   ],
   "source": [
    "\n",
    "cmap = cm.get_cmap('viridis', 40)  # Replace 'viridis' with the desired colormap\n",
    "\n",
    "for trial in range(29,30):\n",
    "    if trial % 1 == 0:\n",
    "        sub=df[df[\"trial\"]==trial]\n",
    "        color=cmap(trial)\n",
    "        #plt.plot(sub[\"axis_statesfilt_x\"],sub[\"axis_statesfilt_y\"],color=color)\n",
    "        plt.plot(sub[\"axis_rotfilt_x\"],sub[\"axis_rotfilt_y\"],color=\"blue\")\n",
    "        plt.plot(sub[\"straightened_mvmnt_X\"],sub[\"straightened_mvmnt_Y\"],color=color)\n",
    "\n",
    "center = [0, 0]\n",
    "targetdirections = [0, 90, -90, 180]\n",
    "radius = .50\n",
    "\n",
    "\n",
    "targetlocation = ([(radius * np.cos(np.pi * (dir) / 180)) for dir in targetdirections],\n",
    "                  [(radius * np.sin(np.pi * (dir) / 180)) for dir in targetdirections])\n",
    "plt.plot(targetlocation[0], targetlocation[1], marker=\"o\", linestyle=\"None\", markersize=30,alpha=0.5)\n",
    "plt.plot(center[0], center[1], marker=\"X\", linestyle=\"None\", markersize=10,alpha=0.5)\n",
    "\n",
    "\n",
    "plt.plot((radius * np.cos(np.pi * 90 / 180)), (radius * np.sin(np.pi * (90) / 180)+0.4), marker=\"o\", linestyle=\"None\", markersize=30,alpha=0.5)\n",
    "\n",
    "#plt.plot((radius * np.cos(np.pi * 0 / 180)), (radius * np.sin(np.pi * (0) / 180)), marker=\"o\", linestyle=\"None\", markersize=30,alpha=0.5)\n",
    "\n",
    "plt.plot(center[0], center[1], marker=\"X\", linestyle=\"None\", markersize=10,alpha=0.5)\n",
    "\n",
    "#plt.plot(targetlocation[0], targetlocation[1], marker=\"o\", linestyle=\"None\", markersize=30,alpha=0.5)\n",
    "plt.plot(0, 0, marker=\"X\", linestyle=\"None\", markersize=10,alpha=0.5)\n",
    "plt.xlim(-1,1)\n",
    "plt.ylim(-1,1.2)"
   ]
  },
  {
   "cell_type": "code",
   "execution_count": 17,
   "metadata": {},
   "outputs": [],
   "source": [
    "import numpy as np\n",
    "\n",
    "line_points_x=np.array(sub[\"axis_rotfilt_x\"])\n",
    "line_points_y=np.array(sub[\"axis_rotfilt_y\"])\n",
    "final=0\n",
    "init=-90\n",
    "# Translation to move initial point to the origin\n",
    "translated = [line_points_x - line_points_x[0],line_points_y - line_points_y[0]]\n",
    "\n",
    "# Step 2: Apply a rotation of 90 degrees\n",
    "\n",
    "rotation_angle = -90\n",
    "rotation_matrix = np.array([[np.cos(np.radians(rotation_angle )), -np.sin(np.radians(rotation_angle ))],\n",
    "                            [np.sin(np.radians(rotation_angle )), np.cos(np.radians(rotation_angle ))]])\n",
    "\n",
    "# Apply rotation to each point\n",
    "rotated_line_points = np.dot(rotation_matrix, translated)\n",
    "#rotated_line_points_y = np.dot(rotation_matrix, translated_y)\n",
    "\n",
    "\n",
    "\n",
    "# Translation to move initial point to the origin\n",
    "x=radius * np.cos(np.pi * (final) / 180)\n",
    "y=radius * np.sin(np.pi * (init) / 180)\n",
    "\n",
    "translatedback = [rotated_line_points[0] + line_points_x[0]-x,rotated_line_points[1] + line_points_y[0]-y]\n",
    "#translatedback_y = rotated_line_points_y + line_points_y[0]\n"
   ]
  },
  {
   "cell_type": "code",
   "execution_count": 18,
   "metadata": {},
   "outputs": [
    {
     "data": {
      "text/plain": [
       "[<matplotlib.lines.Line2D at 0x7f38c871ed30>]"
      ]
     },
     "execution_count": 18,
     "metadata": {},
     "output_type": "execute_result"
    },
    {
     "data": {
      "image/png": "[encoded data removed]",
      "text/plain": [
       "<Figure size 432x288 with 1 Axes>"
      ]
     },
     "metadata": {
      "needs_background": "light"
     },
     "output_type": "display_data"
    }
   ],
   "source": [
    "import matplotlib.pyplot as plt\n",
    "\n",
    "\n",
    "center = [0, 0]\n",
    "targetdirections = [0, 90, -90, 180]\n",
    "radius = .50\n",
    "targetlocation = ([(radius * np.cos(np.pi * (dir) / 180)) for dir in targetdirections],\n",
    "                  [(radius * np.sin(np.pi * (dir) / 180)) for dir in targetdirections])\n",
    "plt.plot(targetlocation[0], targetlocation[1], marker=\"o\", linestyle=\"None\", markersize=30,alpha=0.5)\n",
    "plt.plot(center[0], center[1], marker=\"X\", linestyle=\"None\", markersize=10,alpha=0.5)\n",
    "\n",
    "                \n",
    "plt.plot(sub[\"axis_rotfilt_x\"],sub[\"axis_rotfilt_y\"])\n",
    "#plt.plot(translated[0] ,translated[1])\n",
    "plt.plot(rotated_line_points[0] ,rotated_line_points[1])\n",
    "\n",
    "#plt.plot(translatedback[0],translatedback[1])\n",
    "#plt.plot(final_rotated_line[0],final_rotated_line[1])"
   ]
  },
  {
   "cell_type": "code",
   "execution_count": 257,
   "metadata": {},
   "outputs": [
    {
     "data": {
      "text/plain": [
       "[<matplotlib.lines.Line2D at 0x7fb2ce9bf940>]"
      ]
     },
     "execution_count": 257,
     "metadata": {},
     "output_type": "execute_result"
    },
    {
     "data": {
      "image/png": "[encoded data removed]",
      "text/plain": [
       "<Figure size 432x288 with 1 Axes>"
      ]
     },
     "metadata": {
      "needs_background": "light"
     },
     "output_type": "display_data"
    }
   ],
   "source": [
    "plt.plot(rot_x,rot_y)\n",
    "#plt.xlim(-0.01,0.01)"
   ]
  },
  {
   "cell_type": "markdown",
   "metadata": {},
   "source": [
    " ### <font color=#4424D6> III. Plot  </font >"
   ]
  },
  {
   "cell_type": "code",
   "execution_count": 17,
   "metadata": {},
   "outputs": [
    {
     "name": "stdout",
     "output_type": "stream",
     "text": [
      "RNDpre\n",
      "MA\n",
      "RNDpost\n"
     ]
    },
    {
     "data": {
      "image/png": "[encoded data removed]",
      "text/plain": [
       "<Figure size 432x288 with 1 Axes>"
      ]
     },
     "metadata": {
      "needs_background": "light"
     },
     "output_type": "display_data"
    }
   ],
   "source": [
    "\n",
    "for subject_name in config[\"list_subjects\"]:\n",
    "    for sess_nb in range(0,1):#len(config[\"list_subjects\"][subject_name])):\n",
    "        sess=config[\"list_subjects\"][subject_name][\"sess0\" + str(sess_nb+1)]\n",
    "        for run_name in [\"RNDpre\",\"MA\",\"RNDpost\"]:#config[\"subjects_acq\"][subject_name][\"sess0\" + str(sess_nb+1)]:#runs[subject_name][\"sess0\" + str(sess_nb+1)]:\n",
    "            print(run_name)\n",
    "            ana_dir=config[\"main_dir\"] + config[\"data_dir\"] + \"/\" + subject_name + \"/sess_\"+ sess+ \"/\" + run_name \n",
    "            movie_file=ana_dir +\"/\"+ subject_name + \"_\"+sess+\"_\"+run_name + \"_trials_movie.avi\"\n",
    "\n",
    "            if not os.path.exists(movie_file):\n",
    "                data.plot_trial(subject_name,sess,run_name,create_movie=True)#,trial_range=range(100,120))\n",
    "           "
   ]
  },
  {
   "cell_type": "code",
   "execution_count": 21,
   "metadata": {},
   "outputs": [],
   "source": [
    "# Create a new dataframe to manually enter a value for the trials to be delated\n",
    "for subject_name in config[\"list_subjects\"]:\n",
    "    for sess_nb in range(0,len(config[\"list_subjects\"][subject_name])):\n",
    "        sess=config[\"list_subjects\"][subject_name][\"sess0\" + str(sess_nb+1)]\n",
    "        for run_name in config[\"subjects_acq\"][subject_name][\"sess0\" + str(sess_nb+1)]:#runs[subject_name][\"sess0\" + str(sess_nb+1)]:\n",
    "\n",
    "            trial_filename=glob.glob(config[\"main_dir\"] + config[\"data_dir\"] + \"/\" + subject_name + \"/sess_\"+ sess+ \"/\" + run_name + \"/*trial.dat\")[0]\n",
    "            trial_df=pd.read_csv(trial_filename,delimiter=\" \")\n",
    "            trial_df[\"remove_trial\"]=0;trial_df[\"remove_seq\"]=0;trial_df[\"run_name\"]=run_name\n",
    "            trial_df_new=trial_df[[\"subject\",\"run_name\",\"trial\",\"remove_trial\",\"remove_seq\",\"trialInSeq\",\"seqInBlock\",\"block\",\"target.angle\",\"targetHit\",\"t.move\",\"t.hit\"]] \n",
    "            output_file=trial_filename.split(\".\")[0] + \"filter.csv\"\n",
    "            if not os.path.exists(output_file):\n",
    "                trial_df_new.to_csv(output_file, index=False)"
   ]
  },
  {
   "cell_type": "code",
   "execution_count": null,
   "metadata": {},
   "outputs": [],
   "source": []
  }
 ],
 "metadata": {
  "kernelspec": {
   "display_name": "Python 3",
   "language": "python",
   "name": "python3"
  },
  "language_info": {
   "codemirror_mode": {
    "name": "ipython",
    "version": 3
   },
   "file_extension": ".py",
   "mimetype": "text/x-python",
   "name": "python",
   "nbconvert_exporter": "python",
   "pygments_lexer": "ipython3",
   "version": "3.6.9"
  }
 },
 "nbformat": 4,
 "nbformat_minor": 5
}
