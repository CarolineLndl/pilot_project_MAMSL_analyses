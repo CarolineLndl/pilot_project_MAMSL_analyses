{
 "cells": [
  {
   "cell_type": "markdown",
   "metadata": {},
   "source": [
    "## <font color=#B2D732> <span style=\"background-color: #4424D6\"> Imports"
   ]
  },
  {
   "cell_type": "code",
   "execution_count": 1,
   "metadata": {},
   "outputs": [],
   "source": [
    "import sys,json\n",
    "import glob, os\n",
    "sys.path.append(\"/cerebro/cerebro1/dataset/caroline/2023_pilot_MA-MSL/derivatives/pilot_project_MAMSL_analyses/code/\")\n",
    "\n",
    "\n",
    "from convert_data import Convert_data\n",
    "\n",
    "%matplotlib inline\n",
    "%load_ext autoreload\n",
    "%autoreload 2"
   ]
  },
  {
   "cell_type": "markdown",
   "metadata": {},
   "source": [
    "## <font color=#B2D732> <span style=\"background-color: #4424D6\"> A/ Initialization"
   ]
  },
  {
   "cell_type": "markdown",
   "metadata": {},
   "source": [
    " ### <font color=#4424D6> I. Configuration & parameters </font >"
   ]
  },
  {
   "cell_type": "code",
   "execution_count": 2,
   "metadata": {},
   "outputs": [
    {
     "name": "stdout",
     "output_type": "stream",
     "text": [
      "Data for subjects sub-001 can be found here: /cerebro/cerebro1/dataset/caroline/2023_pilot_MA-MSL//derivatives/data//sub-001\n"
     ]
    }
   ],
   "source": [
    "# Load config file ------------------------------------------------------------\n",
    "with open('../config/config_MAMSL.json') as config_file: # the notebook should be in 'xx/notebook/' folder #config_proprio\n",
    "    config = json.load(config_file) # load config file should be open first and the path inside modified\n",
    "\n",
    "data=Convert_data(config) # initialize the function"
   ]
  },
  {
   "cell_type": "markdown",
   "metadata": {},
   "source": [
    " ### <font color=#4424D6> II. Read raw data </font >"
   ]
  },
  {
   "cell_type": "code",
   "execution_count": 3,
   "metadata": {},
   "outputs": [],
   "source": [
    "filename={};movement_data={};movement_df={};movement_filter_df={}\n",
    "for subject_name in config[\"list_subjects\"]:\n",
    "    filename[subject_name]={};movement_data[subject_name]={};movement_df[subject_name]={};movement_filter_df[subject_name]={}\n",
    "    \n",
    "    for sess_nb in range(0,len(config[\"list_subjects\"][subject_name])):\n",
    "        sess=config[\"list_subjects\"][subject_name][\"sess0\" + str(sess_nb+1)] # name of the session for that participant\n",
    "        filename[subject_name][sess]={};movement_data[subject_name][sess]={};movement_df[subject_name][sess]={};movement_filter_df[subject_name][sess]={}\n",
    "        \n",
    "        for run_name in config[\"subjects_acq\"][subject_name][\"sess0\" + str(sess_nb+1)]:#runs[subject_name][\"sess0\" + str(sess_nb+1)]:\n",
    "            filename[subject_name][sess][run_name]=config[\"main_dir\"] + config[\"data_dir\"] + \"/\" + subject_name + \"/sess_\"+ sess + \"/\" + run_name + \"/\" + subject_name+ \"_sess0\"+str(sess_nb+1) + \"_\" + run_name +\"_movement.bin\"\n",
    "            \n",
    "            movement_data[subject_name][sess][run_name],movement_df[subject_name][sess][run_name]=data.read_movement(subject_name,\n",
    "                                                                                                                     data_filename=filename[subject_name][sess][run_name])\n",
    "            \n",
    "            movement_filter_df[subject_name][sess][run_name]=data.filter_movement(movement_df[subject_name][sess][run_name])"
   ]
  },
  {
   "cell_type": "code",
   "execution_count": 9,
   "metadata": {},
   "outputs": [],
   "source": [
    "filename={};movement_filter_df={};dataframe_filename={}\n",
    "for subject_name in config[\"list_subjects\"]:\n",
    "    filename[subject_name]={};movement_filter_df[subject_name]={};dataframe_filename[subject_name]={}\n",
    "    \n",
    "    for sess_nb in range(0,len(config[\"list_subjects\"][subject_name])):\n",
    "        sess=config[\"list_subjects\"][subject_name][\"sess0\" + str(sess_nb+1)] # name of the session for that participant\n",
    "        filename[subject_name][sess]={};movement_filter_df[subject_name][sess]={};dataframe_filename[subject_name][sess]={}\n",
    "        \n",
    "        for run_name in config[\"subjects_acq\"][subject_name][\"sess0\" + str(sess_nb+1)]:#runs[subject_name][\"sess0\" + str(sess_nb+1)]:\n",
    "            dataframe_filename[subject_name][sess][run_name]=config[\"main_dir\"] + config[\"data_dir\"] + \"/\" + subject_name + \"/sess_\"+ sess + \"/\" + run_name + \"/\" + subject_name+ \"_sess0\"+str(sess_nb+1) + \"_\" + run_name +\"_movement.csv\"\n",
    "            movement_filter_df[subject_name][sess][run_name]=data.filter_movement(movement_df[subject_name][sess][run_name],output_file=dataframe_filename[subject_name][sess][run_name])"
   ]
  },
  {
   "cell_type": "code",
   "execution_count": 140,
   "metadata": {},
   "outputs": [
    {
     "data": {
      "text/plain": [
       "100.0"
      ]
     },
     "execution_count": 140,
     "metadata": {},
     "output_type": "execute_result"
    }
   ],
   "source": [
    "1000*0.1#/2"
   ]
  },
  {
   "cell_type": "markdown",
   "metadata": {},
   "source": [
    " ### <font color=#4424D6> III. Plot rawdata </font >"
   ]
  },
  {
   "cell_type": "code",
   "execution_count": null,
   "metadata": {},
   "outputs": [],
   "source": [
    "for subject_name in config[\"list_subjects\"]:\n",
    "    for sess_nb in range(0,1):#len(config[\"list_subjects\"][subject_name])):\n",
    "        sess=config[\"list_subjects\"][subject_name][\"sess0\" + str(sess_nb+1)] # name of the session for that participant\n",
    "        for run_name in config[\"subjects_acq\"][subject_name][\"sess0\" + str(sess_nb+1)]:\n",
    "            plot_filename=config[\"main_dir\"] + config[\"data_dir\"] + \"/\" + subject_name + \"/sess_\"+ sess + \"/\" + run_name + \"/\" + subject_name+ \"_sess0\"+str(sess_nb+1) + \"_\" + run_name +\"_movement_raw.png\"\n",
    "            #print(sess + \" \" + run_name)\n",
    "            data.plot_movement(subject_name,\n",
    "                               movement_df[subject_name ][sess][run_name][100:],\n",
    "                               sample_rate=0.0025,\n",
    "                               save_plot=True,\n",
    "                               plot_filename=plot_filename)"
   ]
  },
  {
   "cell_type": "code",
   "execution_count": null,
   "metadata": {},
   "outputs": [],
   "source": []
  }
 ],
 "metadata": {
  "kernelspec": {
   "display_name": "Python 3",
   "language": "python",
   "name": "python3"
  },
  "language_info": {
   "codemirror_mode": {
    "name": "ipython",
    "version": 3
   },
   "file_extension": ".py",
   "mimetype": "text/x-python",
   "name": "python",
   "nbconvert_exporter": "python",
   "pygments_lexer": "ipython3",
   "version": "3.6.9"
  }
 },
 "nbformat": 4,
 "nbformat_minor": 5
}
