{
 "cells": [
  {
   "cell_type": "markdown",
   "metadata": {},
   "source": [
    "## <font color=#B2D732> <span style=\"background-color: #4424D6\"> Imports"
   ]
  },
  {
   "cell_type": "code",
   "execution_count": 6,
   "metadata": {},
   "outputs": [
    {
     "name": "stdout",
     "output_type": "stream",
     "text": [
      "The autoreload extension is already loaded. To reload it, use:\n",
      "  %reload_ext autoreload\n"
     ]
    }
   ],
   "source": [
    "import sys,json\n",
    "import glob, os\n",
    "import pandas as pd\n",
    "sys.path.append(\"/cerebro/cerebro1/dataset/caroline/2023_pilot_MA-MSL/derivatives/pilot_project_MAMSL_analyses/code/\")\n",
    "\n",
    "\n",
    "from convert_data import Convert_data\n",
    "from matplotlib import cm\n",
    "import numpy as np\n",
    "import matplotlib.pyplot as plt\n",
    "\n",
    "%matplotlib inline\n",
    "%load_ext autoreload\n",
    "%autoreload 2"
   ]
  },
  {
   "cell_type": "markdown",
   "metadata": {},
   "source": [
    "## <font color=#B2D732> <span style=\"background-color: #4424D6\"> A/ Initialization"
   ]
  },
  {
   "cell_type": "markdown",
   "metadata": {},
   "source": [
    " ### <font color=#4424D6> I. Configuration & parameters </font >"
   ]
  },
  {
   "cell_type": "code",
   "execution_count": 7,
   "metadata": {},
   "outputs": [
    {
     "name": "stdout",
     "output_type": "stream",
     "text": [
      "Data for subjects sub-010 can be found here: /cerebro/cerebro1/dataset/caroline/2023_pilot_MA-MSL//derivatives/data//sub-010\n"
     ]
    }
   ],
   "source": [
    "# Load config file ------------------------------------------------------------\n",
    "with open('../config/config_MAMSL.json') as config_file: # the notebook should be in 'xx/notebook/' folder #config_proprio\n",
    "    config = json.load(config_file) # load config file should be open first and the path inside modified\n",
    "\n",
    "data=Convert_data(config) # initialize the function"
   ]
  },
  {
   "cell_type": "markdown",
   "metadata": {},
   "source": [
    " ### <font color=#4424D6> II. Read raw data </font >"
   ]
  },
  {
   "cell_type": "code",
   "execution_count": 8,
   "metadata": {},
   "outputs": [],
   "source": [
    "filename={};movement_data={};movement_df={};movement_filter_df={};dataframe_filename={};trial_file={}\n",
    "for subject_name in config[\"list_subjects\"]:\n",
    "    filename[subject_name]={};movement_data[subject_name]={};movement_df[subject_name]={};movement_filter_df[subject_name]={};dataframe_filename[subject_name]={};trial_file[subject_name]={}\n",
    "    \n",
    "    for sess_nb in range(0,len(config[\"list_subjects\"][subject_name])):\n",
    "        sess=config[\"list_subjects\"][subject_name][\"sess0\" + str(sess_nb+1)] # name of the session for that participant\n",
    "        filename[subject_name][sess]={};movement_data[subject_name][sess]={};movement_df[subject_name][sess]={};movement_filter_df[subject_name][sess]={};dataframe_filename[subject_name][sess]={}\n",
    "        trial_file[subject_name][sess]={};\n",
    "        for run_name in config[\"subjects_acq\"][subject_name][\"sess0\" + str(sess_nb+1)]:#runs[subject_name][\"sess0\" + str(sess_nb+1)]:\n",
    "            filename[subject_name][sess][run_name]=config[\"main_dir\"] + config[\"data_dir\"] + \"/\" + subject_name + \"/sess_\"+ sess + \"/\" + run_name + \"/\" + subject_name+ \"_sess0\"+str(sess_nb+1) + \"_\" + run_name +\"_movement.bin\"\n",
    "            dataframe_filename[subject_name][sess][run_name]=config[\"main_dir\"] + config[\"data_dir\"] + \"/\" + subject_name + \"/sess_\"+ sess + \"/\" + run_name + \"/\" + subject_name+ \"_sess0\"+str(sess_nb+1) + \"_\" + run_name +\"_movement.csv\"\n",
    "            trial_file[subject_name][sess][run_name]=config[\"main_dir\"] + config[\"data_dir\"] + \"/\" + subject_name + \"/sess_\"+ sess + \"/\" + run_name + \"/\" + subject_name+ \"_sess0\"+str(sess_nb+1) + \"_\" + run_name +\"_trial.dat\"\n",
    "            if not os.path.exists(\"\"):#dataframe_filename[subject_name][sess][run_name]):\n",
    "\n",
    "                    movement_data[subject_name][sess][run_name],movement_df[subject_name][sess][run_name]=data.read_movement(subject_name,\n",
    "                                                                                                                     data_filename=filename[subject_name][sess][run_name])\n",
    "    \n",
    "                \n",
    "                    movement_filter_df[subject_name][sess][run_name]=data.filter_movement(movement_df[subject_name][sess][run_name],trial_file[subject_name][sess][run_name],run_name,output_file=dataframe_filename[subject_name][sess][run_name])\n"
   ]
  },
  {
   "cell_type": "code",
   "execution_count": 11,
   "metadata": {},
   "outputs": [],
   "source": [
    "sub=movement_filter_df[subject_name][sess][\"MA\"][movement_filter_df[subject_name][sess][\"MA\"][\"trial\"]<=10]#[\"straightened_mvmnt_X\"]\n"
   ]
  },
  {
   "cell_type": "code",
   "execution_count": 12,
   "metadata": {},
   "outputs": [
    {
     "ename": "NameError",
     "evalue": "name 'cm' is not defined",
     "output_type": "error",
     "traceback": [
      "\u001b[0;31m---------------------------------------------------------------------------\u001b[0m",
      "\u001b[0;31mNameError\u001b[0m                                 Traceback (most recent call last)",
      "\u001b[0;32m<ipython-input-12-050051ff8e29>\u001b[0m in \u001b[0;36m<module>\u001b[0;34m\u001b[0m\n\u001b[0;32m----> 1\u001b[0;31m \u001b[0mcmap\u001b[0m \u001b[0;34m=\u001b[0m \u001b[0mcm\u001b[0m\u001b[0;34m.\u001b[0m\u001b[0mget_cmap\u001b[0m\u001b[0;34m(\u001b[0m\u001b[0;34m'viridis'\u001b[0m\u001b[0;34m,\u001b[0m \u001b[0;36m50\u001b[0m\u001b[0;34m)\u001b[0m  \u001b[0;31m# Replace 'viridis' with the desired colormap\u001b[0m\u001b[0;34m\u001b[0m\u001b[0;34m\u001b[0m\u001b[0m\n\u001b[0m\u001b[1;32m      2\u001b[0m \u001b[0;34m\u001b[0m\u001b[0m\n\u001b[1;32m      3\u001b[0m \u001b[0;32mfor\u001b[0m \u001b[0mtrial\u001b[0m \u001b[0;32min\u001b[0m \u001b[0mrange\u001b[0m\u001b[0;34m(\u001b[0m\u001b[0;36m0\u001b[0m\u001b[0;34m,\u001b[0m\u001b[0;36m50\u001b[0m\u001b[0;34m)\u001b[0m\u001b[0;34m:\u001b[0m\u001b[0;34m\u001b[0m\u001b[0;34m\u001b[0m\u001b[0m\n\u001b[1;32m      4\u001b[0m     \u001b[0msub\u001b[0m\u001b[0;34m=\u001b[0m\u001b[0mdf\u001b[0m\u001b[0;34m[\u001b[0m\u001b[0mdf\u001b[0m\u001b[0;34m[\u001b[0m\u001b[0;34m\"trial\"\u001b[0m\u001b[0;34m]\u001b[0m\u001b[0;34m==\u001b[0m\u001b[0mtrial\u001b[0m\u001b[0;34m]\u001b[0m\u001b[0;34m\u001b[0m\u001b[0;34m\u001b[0m\u001b[0m\n\u001b[1;32m      5\u001b[0m     \u001b[0mcolor\u001b[0m\u001b[0;34m=\u001b[0m\u001b[0mcmap\u001b[0m\u001b[0;34m(\u001b[0m\u001b[0mtrial\u001b[0m\u001b[0;34m)\u001b[0m\u001b[0;34m\u001b[0m\u001b[0;34m\u001b[0m\u001b[0m\n",
      "\u001b[0;31mNameError\u001b[0m: name 'cm' is not defined"
     ]
    }
   ],
   "source": [
    "\n",
    "cmap = cm.get_cmap('viridis', 50)  # Replace 'viridis' with the desired colormap\n",
    "\n",
    "for trial in range(0,50):\n",
    "    sub=df[df[\"trial\"]==trial]\n",
    "    color=cmap(trial)\n",
    "    #plt.plot(sub[\"axis_rotfilt_x\"],sub[\"axis_rotfilt_y\"],color=color)\n",
    "    plt.plot(sub[\"straightened_mvmnt_X\"],sub[\"straightened_mvmnt_Y\"],color=color)\n",
    "\n",
    "center = [0, 0]\n",
    "targetdirections = [0, 90, -90, 180]\n",
    "radius = .50\n",
    "\n",
    "plt.plot((radius * np.cos(np.pi * 90 / 180)), (radius * np.sin(np.pi * (90) / 180)+0.4), marker=\"o\", linestyle=\"None\", markersize=30,alpha=0.5)\n",
    "\n",
    "#plt.plot((radius * np.cos(np.pi * 0 / 180)), (radius * np.sin(np.pi * (0) / 180)), marker=\"o\", linestyle=\"None\", markersize=30,alpha=0.5)\n",
    "\n",
    "plt.plot(center[0], center[1], marker=\"X\", linestyle=\"None\", markersize=10,alpha=0.5)\n",
    "\n",
    "#plt.plot(targetlocation[0], targetlocation[1], marker=\"o\", linestyle=\"None\", markersize=30,alpha=0.5)\n",
    "plt.plot(0, 0, marker=\"X\", linestyle=\"None\", markersize=10,alpha=0.5)\n",
    "plt.xlim(-0.6,0.6)"
   ]
  },
  {
   "cell_type": "code",
   "execution_count": 382,
   "metadata": {},
   "outputs": [],
   "source": [
    "import numpy as np\n",
    "\n",
    "line_points_x=np.array(sub[\"axis_rotfilt_x\"])\n",
    "line_points_y=np.array(sub[\"axis_rotfilt_y\"])\n",
    "final=0\n",
    "init=-90\n",
    "# Translation to move initial point to the origin\n",
    "translated = [line_points_x - line_points_x[0],line_points_y - line_points_y[0]]\n",
    "\n",
    "# Step 2: Apply a rotation of 90 degrees\n",
    "\n",
    "rotation_angle = (final-init)/2# Rotation angle in degrees\n",
    "rotation_matrix = np.array([[np.cos(np.radians(rotation_angle )), -np.sin(np.radians(rotation_angle ))],\n",
    "                            [np.sin(np.radians(rotation_angle )), np.cos(np.radians(rotation_angle ))]])\n",
    "\n",
    "# Apply rotation to each point\n",
    "rotated_line_points = np.dot(rotation_matrix, translated)\n",
    "#rotated_line_points_y = np.dot(rotation_matrix, translated_y)\n",
    "\n",
    "\n",
    "\n",
    "# Translation to move initial point to the origin\n",
    "x=radius * np.cos(np.pi * (final) / 180)\n",
    "y=radius * np.sin(np.pi * (init) / 180)\n",
    "\n",
    "translatedback = [rotated_line_points[0] + line_points_x[0]-x,rotated_line_points[1] + line_points_y[0]-y]\n",
    "#translatedback_y = rotated_line_points_y + line_points_y[0]\n"
   ]
  },
  {
   "cell_type": "code",
   "execution_count": 383,
   "metadata": {},
   "outputs": [
    {
     "data": {
      "text/plain": [
       "[<matplotlib.lines.Line2D at 0x7fdf96aaf6d8>]"
      ]
     },
     "execution_count": 383,
     "metadata": {},
     "output_type": "execute_result"
    },
    {
     "data": {
      "image/png": "[encoded data removed]",
      "text/plain": [
       "<Figure size 432x288 with 1 Axes>"
      ]
     },
     "metadata": {
      "needs_background": "light"
     },
     "output_type": "display_data"
    }
   ],
   "source": [
    "import matplotlib.pyplot as plt\n",
    "\n",
    "\n",
    "center = [0, 0]\n",
    "targetdirections = [0, 90, -90, 180]\n",
    "radius = .50\n",
    "targetlocation = ([(radius * np.cos(np.pi * (dir) / 180)) for dir in targetdirections],\n",
    "                  [(radius * np.sin(np.pi * (dir) / 180)) for dir in targetdirections])\n",
    "plt.plot(targetlocation[0], targetlocation[1], marker=\"o\", linestyle=\"None\", markersize=30,alpha=0.5)\n",
    "plt.plot(center[0], center[1], marker=\"X\", linestyle=\"None\", markersize=10,alpha=0.5)\n",
    "\n",
    "                \n",
    "plt.plot(sub[\"axis_rotfilt_x\"],sub[\"axis_rotfilt_y\"])\n",
    "#plt.plot(translated[0] ,translated[1])\n",
    "plt.plot(rotated_line_points[0] ,rotated_line_points[1])\n",
    "\n",
    "#plt.plot(translatedback[0],translatedback[1])\n",
    "#plt.plot(final_rotated_line[0],final_rotated_line[1])"
   ]
  },
  {
   "cell_type": "code",
   "execution_count": 358,
   "metadata": {},
   "outputs": [
    {
     "ename": "ValueError",
     "evalue": "x and y must have same first dimension, but have shapes (2, 158) and (158,)",
     "output_type": "error",
     "traceback": [
      "\u001b[0;31m---------------------------------------------------------------------------\u001b[0m",
      "\u001b[0;31mValueError\u001b[0m                                Traceback (most recent call last)",
      "\u001b[0;32m<ipython-input-358-cbde380354b3>\u001b[0m in \u001b[0;36m<module>\u001b[0;34m\u001b[0m\n\u001b[0;32m----> 1\u001b[0;31m \u001b[0mplt\u001b[0m\u001b[0;34m.\u001b[0m\u001b[0mplot\u001b[0m\u001b[0;34m(\u001b[0m\u001b[0mtranslatedback_x\u001b[0m\u001b[0;34m,\u001b[0m\u001b[0mtranslatedback_y\u001b[0m\u001b[0;34m)\u001b[0m\u001b[0;34m\u001b[0m\u001b[0;34m\u001b[0m\u001b[0m\n\u001b[0m",
      "\u001b[0;32m/cerebro/cerebro1/dataset/bmpd/derivatives/thibault_test/code/toolbox/bmpd_python/lib/python3.6/site-packages/matplotlib/pyplot.py\u001b[0m in \u001b[0;36mplot\u001b[0;34m(scalex, scaley, data, *args, **kwargs)\u001b[0m\n\u001b[1;32m   2761\u001b[0m     return gca().plot(\n\u001b[1;32m   2762\u001b[0m         *args, scalex=scalex, scaley=scaley, **({\"data\": data} if data\n\u001b[0;32m-> 2763\u001b[0;31m         is not None else {}), **kwargs)\n\u001b[0m\u001b[1;32m   2764\u001b[0m \u001b[0;34m\u001b[0m\u001b[0m\n\u001b[1;32m   2765\u001b[0m \u001b[0;34m\u001b[0m\u001b[0m\n",
      "\u001b[0;32m/cerebro/cerebro1/dataset/bmpd/derivatives/thibault_test/code/toolbox/bmpd_python/lib/python3.6/site-packages/matplotlib/axes/_axes.py\u001b[0m in \u001b[0;36mplot\u001b[0;34m(self, scalex, scaley, data, *args, **kwargs)\u001b[0m\n\u001b[1;32m   1645\u001b[0m         \"\"\"\n\u001b[1;32m   1646\u001b[0m         \u001b[0mkwargs\u001b[0m \u001b[0;34m=\u001b[0m \u001b[0mcbook\u001b[0m\u001b[0;34m.\u001b[0m\u001b[0mnormalize_kwargs\u001b[0m\u001b[0;34m(\u001b[0m\u001b[0mkwargs\u001b[0m\u001b[0;34m,\u001b[0m \u001b[0mmlines\u001b[0m\u001b[0;34m.\u001b[0m\u001b[0mLine2D\u001b[0m\u001b[0;34m)\u001b[0m\u001b[0;34m\u001b[0m\u001b[0;34m\u001b[0m\u001b[0m\n\u001b[0;32m-> 1647\u001b[0;31m         \u001b[0mlines\u001b[0m \u001b[0;34m=\u001b[0m \u001b[0;34m[\u001b[0m\u001b[0;34m*\u001b[0m\u001b[0mself\u001b[0m\u001b[0;34m.\u001b[0m\u001b[0m_get_lines\u001b[0m\u001b[0;34m(\u001b[0m\u001b[0;34m*\u001b[0m\u001b[0margs\u001b[0m\u001b[0;34m,\u001b[0m \u001b[0mdata\u001b[0m\u001b[0;34m=\u001b[0m\u001b[0mdata\u001b[0m\u001b[0;34m,\u001b[0m \u001b[0;34m**\u001b[0m\u001b[0mkwargs\u001b[0m\u001b[0;34m)\u001b[0m\u001b[0;34m]\u001b[0m\u001b[0;34m\u001b[0m\u001b[0;34m\u001b[0m\u001b[0m\n\u001b[0m\u001b[1;32m   1648\u001b[0m         \u001b[0;32mfor\u001b[0m \u001b[0mline\u001b[0m \u001b[0;32min\u001b[0m \u001b[0mlines\u001b[0m\u001b[0;34m:\u001b[0m\u001b[0;34m\u001b[0m\u001b[0;34m\u001b[0m\u001b[0m\n\u001b[1;32m   1649\u001b[0m             \u001b[0mself\u001b[0m\u001b[0;34m.\u001b[0m\u001b[0madd_line\u001b[0m\u001b[0;34m(\u001b[0m\u001b[0mline\u001b[0m\u001b[0;34m)\u001b[0m\u001b[0;34m\u001b[0m\u001b[0;34m\u001b[0m\u001b[0m\n",
      "\u001b[0;32m/cerebro/cerebro1/dataset/bmpd/derivatives/thibault_test/code/toolbox/bmpd_python/lib/python3.6/site-packages/matplotlib/axes/_base.py\u001b[0m in \u001b[0;36m__call__\u001b[0;34m(self, *args, **kwargs)\u001b[0m\n\u001b[1;32m    214\u001b[0m                 \u001b[0mthis\u001b[0m \u001b[0;34m+=\u001b[0m \u001b[0margs\u001b[0m\u001b[0;34m[\u001b[0m\u001b[0;36m0\u001b[0m\u001b[0;34m]\u001b[0m\u001b[0;34m,\u001b[0m\u001b[0;34m\u001b[0m\u001b[0;34m\u001b[0m\u001b[0m\n\u001b[1;32m    215\u001b[0m                 \u001b[0margs\u001b[0m \u001b[0;34m=\u001b[0m \u001b[0margs\u001b[0m\u001b[0;34m[\u001b[0m\u001b[0;36m1\u001b[0m\u001b[0;34m:\u001b[0m\u001b[0;34m]\u001b[0m\u001b[0;34m\u001b[0m\u001b[0;34m\u001b[0m\u001b[0m\n\u001b[0;32m--> 216\u001b[0;31m             \u001b[0;32myield\u001b[0m \u001b[0;32mfrom\u001b[0m \u001b[0mself\u001b[0m\u001b[0;34m.\u001b[0m\u001b[0m_plot_args\u001b[0m\u001b[0;34m(\u001b[0m\u001b[0mthis\u001b[0m\u001b[0;34m,\u001b[0m \u001b[0mkwargs\u001b[0m\u001b[0;34m)\u001b[0m\u001b[0;34m\u001b[0m\u001b[0;34m\u001b[0m\u001b[0m\n\u001b[0m\u001b[1;32m    217\u001b[0m \u001b[0;34m\u001b[0m\u001b[0m\n\u001b[1;32m    218\u001b[0m     \u001b[0;32mdef\u001b[0m \u001b[0mget_next_color\u001b[0m\u001b[0;34m(\u001b[0m\u001b[0mself\u001b[0m\u001b[0;34m)\u001b[0m\u001b[0;34m:\u001b[0m\u001b[0;34m\u001b[0m\u001b[0;34m\u001b[0m\u001b[0m\n",
      "\u001b[0;32m/cerebro/cerebro1/dataset/bmpd/derivatives/thibault_test/code/toolbox/bmpd_python/lib/python3.6/site-packages/matplotlib/axes/_base.py\u001b[0m in \u001b[0;36m_plot_args\u001b[0;34m(self, tup, kwargs)\u001b[0m\n\u001b[1;32m    340\u001b[0m \u001b[0;34m\u001b[0m\u001b[0m\n\u001b[1;32m    341\u001b[0m         \u001b[0;32mif\u001b[0m \u001b[0mx\u001b[0m\u001b[0;34m.\u001b[0m\u001b[0mshape\u001b[0m\u001b[0;34m[\u001b[0m\u001b[0;36m0\u001b[0m\u001b[0;34m]\u001b[0m \u001b[0;34m!=\u001b[0m \u001b[0my\u001b[0m\u001b[0;34m.\u001b[0m\u001b[0mshape\u001b[0m\u001b[0;34m[\u001b[0m\u001b[0;36m0\u001b[0m\u001b[0;34m]\u001b[0m\u001b[0;34m:\u001b[0m\u001b[0;34m\u001b[0m\u001b[0;34m\u001b[0m\u001b[0m\n\u001b[0;32m--> 342\u001b[0;31m             raise ValueError(f\"x and y must have same first dimension, but \"\n\u001b[0m\u001b[1;32m    343\u001b[0m                              f\"have shapes {x.shape} and {y.shape}\")\n\u001b[1;32m    344\u001b[0m         \u001b[0;32mif\u001b[0m \u001b[0mx\u001b[0m\u001b[0;34m.\u001b[0m\u001b[0mndim\u001b[0m \u001b[0;34m>\u001b[0m \u001b[0;36m2\u001b[0m \u001b[0;32mor\u001b[0m \u001b[0my\u001b[0m\u001b[0;34m.\u001b[0m\u001b[0mndim\u001b[0m \u001b[0;34m>\u001b[0m \u001b[0;36m2\u001b[0m\u001b[0;34m:\u001b[0m\u001b[0;34m\u001b[0m\u001b[0;34m\u001b[0m\u001b[0m\n",
      "\u001b[0;31mValueError\u001b[0m: x and y must have same first dimension, but have shapes (2, 158) and (158,)"
     ]
    },
    {
     "data": {
      "image/png": "[encoded data removed]",
      "text/plain": [
       "<Figure size 432x288 with 1 Axes>"
      ]
     },
     "metadata": {
      "needs_background": "light"
     },
     "output_type": "display_data"
    }
   ],
   "source": [
    "plt.plot(translatedback_x,translatedback_y)"
   ]
  },
  {
   "cell_type": "code",
   "execution_count": 257,
   "metadata": {},
   "outputs": [
    {
     "data": {
      "text/plain": [
       "[<matplotlib.lines.Line2D at 0x7fb2ce9bf940>]"
      ]
     },
     "execution_count": 257,
     "metadata": {},
     "output_type": "execute_result"
    },
    {
     "data": {
      "image/png": "[encoded data removed]",
      "text/plain": [
       "<Figure size 432x288 with 1 Axes>"
      ]
     },
     "metadata": {
      "needs_background": "light"
     },
     "output_type": "display_data"
    }
   ],
   "source": [
    "plt.plot(rot_x,rot_y)\n",
    "#plt.xlim(-0.01,0.01)"
   ]
  },
  {
   "cell_type": "code",
   "execution_count": 112,
   "metadata": {},
   "outputs": [
    {
     "name": "stdout",
     "output_type": "stream",
     "text": [
      "Original DataFrame:\n",
      "      Unnamed: 0  axis_states_x  axis_states_y  axis_raw_x  axis_raw_y  \\\n",
      "1334        1334      -0.036364      -0.461207       495.0       668.0   \n",
      "1335        1335      -0.032727      -0.465517       496.0       669.0   \n",
      "1336        1336      -0.025455      -0.469828       498.0       670.0   \n",
      "1337        1337       0.000000      -0.469828       505.0       670.0   \n",
      "1338        1338       0.000000      -0.474138       505.0       671.0   \n",
      "...          ...            ...            ...         ...         ...   \n",
      "1485        1485       0.484615      -0.034483       631.0       569.0   \n",
      "1486        1486       0.488462      -0.030172       632.0       568.0   \n",
      "1487        1487       0.511538      -0.030172       638.0       568.0   \n",
      "1488        1488       0.519231      -0.030172       640.0       568.0   \n",
      "1489        1489       0.546154      -0.030172       647.0       568.0   \n",
      "\n",
      "      t_since_start  device_time  sample  trial  phase  axis_statesfilt_x  \\\n",
      "1334      48.097630     826153.0  1663.0    6.0    1.0          -0.034043   \n",
      "1335      48.099583     828147.0  1665.0    6.0    1.0          -0.033614   \n",
      "1336      48.101707     830150.0  1667.0    6.0    1.0          -0.033183   \n",
      "1337      48.103573     832150.0  1668.0    6.0    1.0          -0.032752   \n",
      "1338      48.104488     833151.0  1669.0    6.0    1.0          -0.032326   \n",
      "...             ...          ...     ...    ...    ...                ...   \n",
      "1485      48.558533     287146.0  1875.0    6.0    1.0           0.486895   \n",
      "1486      48.560593     289143.0  1877.0    6.0    1.0           0.489795   \n",
      "1487      48.562531     291143.0  1878.0    6.0    1.0           0.492611   \n",
      "1488      48.564518     293144.0  1879.0    6.0    1.0           0.495340   \n",
      "1489      48.566742     295141.0  1880.0    6.0    5.0           0.497978   \n",
      "\n",
      "      axis_statesfilt_y  axis_rawfilt_x  axis_rawfilt_y  rot_angle  \\\n",
      "1334          -0.496492      495.721688      676.186178          0   \n",
      "1335          -0.501566      495.843203      677.363415          0   \n",
      "1336          -0.506577      495.965377      678.525884          0   \n",
      "1337          -0.511521      496.087178      679.672978          0   \n",
      "1338          -0.516396      496.207629      680.803952          0   \n",
      "...                 ...             ...             ...        ...   \n",
      "1485          -0.030460      631.594271      568.066699          0   \n",
      "1486          -0.027161      632.347931      567.301302          0   \n",
      "1487          -0.023893      633.079939      566.543146          0   \n",
      "1488          -0.020655      633.789251      565.791981          0   \n",
      "1489          -0.017446      634.474884      565.047584          0   \n",
      "\n",
      "      axis_rotfilt_x  axis_rotfilt_y  \n",
      "1334       -0.034043       -0.496492  \n",
      "1335       -0.033614       -0.501566  \n",
      "1336       -0.033183       -0.506577  \n",
      "1337       -0.032752       -0.511521  \n",
      "1338       -0.032326       -0.516396  \n",
      "...              ...             ...  \n",
      "1485        0.486895       -0.030460  \n",
      "1486        0.489795       -0.027161  \n",
      "1487        0.492611       -0.023893  \n",
      "1488        0.495340       -0.020655  \n",
      "1489        0.497978       -0.017446  \n",
      "\n",
      "[156 rows x 17 columns]\n",
      "\n",
      "Reindexed DataFrame:\n",
      "     Unnamed: 0  axis_states_x  axis_states_y  axis_raw_x  axis_raw_y  \\\n",
      "0           NaN            NaN            NaN         NaN         NaN   \n",
      "1           NaN            NaN            NaN         NaN         NaN   \n",
      "2           NaN            NaN            NaN         NaN         NaN   \n",
      "3           NaN            NaN            NaN         NaN         NaN   \n",
      "4           NaN            NaN            NaN         NaN         NaN   \n",
      "..          ...            ...            ...         ...         ...   \n",
      "151         NaN            NaN            NaN         NaN         NaN   \n",
      "152         NaN            NaN            NaN         NaN         NaN   \n",
      "153         NaN            NaN            NaN         NaN         NaN   \n",
      "154         NaN            NaN            NaN         NaN         NaN   \n",
      "155         NaN            NaN            NaN         NaN         NaN   \n",
      "\n",
      "     t_since_start  device_time  sample  trial  phase  axis_statesfilt_x  \\\n",
      "0              NaN          NaN     NaN    NaN    NaN                NaN   \n",
      "1              NaN          NaN     NaN    NaN    NaN                NaN   \n",
      "2              NaN          NaN     NaN    NaN    NaN                NaN   \n",
      "3              NaN          NaN     NaN    NaN    NaN                NaN   \n",
      "4              NaN          NaN     NaN    NaN    NaN                NaN   \n",
      "..             ...          ...     ...    ...    ...                ...   \n",
      "151            NaN          NaN     NaN    NaN    NaN                NaN   \n",
      "152            NaN          NaN     NaN    NaN    NaN                NaN   \n",
      "153            NaN          NaN     NaN    NaN    NaN                NaN   \n",
      "154            NaN          NaN     NaN    NaN    NaN                NaN   \n",
      "155            NaN          NaN     NaN    NaN    NaN                NaN   \n",
      "\n",
      "     axis_statesfilt_y  axis_rawfilt_x  axis_rawfilt_y  rot_angle  \\\n",
      "0                  NaN             NaN             NaN        NaN   \n",
      "1                  NaN             NaN             NaN        NaN   \n",
      "2                  NaN             NaN             NaN        NaN   \n",
      "3                  NaN             NaN             NaN        NaN   \n",
      "4                  NaN             NaN             NaN        NaN   \n",
      "..                 ...             ...             ...        ...   \n",
      "151                NaN             NaN             NaN        NaN   \n",
      "152                NaN             NaN             NaN        NaN   \n",
      "153                NaN             NaN             NaN        NaN   \n",
      "154                NaN             NaN             NaN        NaN   \n",
      "155                NaN             NaN             NaN        NaN   \n",
      "\n",
      "     axis_rotfilt_x  axis_rotfilt_y  \n",
      "0               NaN             NaN  \n",
      "1               NaN             NaN  \n",
      "2               NaN             NaN  \n",
      "3               NaN             NaN  \n",
      "4               NaN             NaN  \n",
      "..              ...             ...  \n",
      "151             NaN             NaN  \n",
      "152             NaN             NaN  \n",
      "153             NaN             NaN  \n",
      "154             NaN             NaN  \n",
      "155             NaN             NaN  \n",
      "\n",
      "[156 rows x 17 columns]\n"
     ]
    }
   ],
   "source": [
    "\n",
    "df = sub\n",
    "# Create a new index starting from 0\n",
    "new_index = range(len(df))\n",
    "\n",
    "# Reindex the DataFrame with the new index\n",
    "reindexed_df = df.reindex(new_index)\n",
    "\n",
    "print(\"Original DataFrame:\")\n",
    "print(df)\n",
    "\n",
    "print(\"\\nReindexed DataFrame:\")\n",
    "print(reindexed_df)"
   ]
  },
  {
   "cell_type": "markdown",
   "metadata": {},
   "source": [
    " ### <font color=#4424D6> III. Plot  </font >"
   ]
  },
  {
   "cell_type": "code",
   "execution_count": 108,
   "metadata": {},
   "outputs": [
    {
     "name": "stdout",
     "output_type": "stream",
     "text": [
      "MA\n"
     ]
    },
    {
     "data": {
      "image/png": "[encoded data removed]",
      "text/plain": [
       "<Figure size 432x288 with 1 Axes>"
      ]
     },
     "metadata": {
      "needs_background": "light"
     },
     "output_type": "display_data"
    }
   ],
   "source": [
    "run_name=[\"MA\"]\n",
    "for subject_name in config[\"list_subjects\"]:\n",
    "    for sess_nb in range(0,1):#len(config[\"list_subjects\"][subject_name])):\n",
    "        sess=config[\"list_subjects\"][subject_name][\"sess0\" + str(sess_nb+1)]\n",
    "        for run_name in [\"MA\"]:#config[\"subjects_acq\"][subject_name][\"sess0\" + str(sess_nb+1)]:#runs[subject_name][\"sess0\" + str(sess_nb+1)]:\n",
    "            print(run_name)\n",
    "            ana_dir=config[\"main_dir\"] + config[\"data_dir\"] + \"/\" + subject_name + \"/sess_\"+ sess+ \"/\" + run_name \n",
    "            movie_file=ana_dir +\"/\"+ subject_name + \"_\"+sess+\"_\"+run_name + \"_trials_movie.avi\"\n",
    "\n",
    "            \n",
    "            if not os.path.exists(\"movie_file\"):\n",
    "                data.plot_trial(subject_name,sess,run_name,create_movie=True)#,trial_range=range(100,120))\n",
    "           "
   ]
  },
  {
   "cell_type": "code",
   "execution_count": 79,
   "metadata": {},
   "outputs": [
    {
     "data": {
      "text/plain": [
       "'MA'"
      ]
     },
     "execution_count": 79,
     "metadata": {},
     "output_type": "execute_result"
    }
   ],
   "source": [
    "run_name"
   ]
  },
  {
   "cell_type": "code",
   "execution_count": 19,
   "metadata": {},
   "outputs": [],
   "source": [
    "# Create a new dataframe to manually enter a value for the trials to be delated\n",
    "for subject_name in config[\"list_subjects\"]:\n",
    "    for sess_nb in range(0,len(config[\"list_subjects\"][subject_name])):\n",
    "        sess=config[\"list_subjects\"][subject_name][\"sess0\" + str(sess_nb+1)]\n",
    "        for run_name in config[\"subjects_acq\"][subject_name][\"sess0\" + str(sess_nb+1)]:#runs[subject_name][\"sess0\" + str(sess_nb+1)]:\n",
    "\n",
    "            trial_filename=glob.glob(config[\"main_dir\"] + config[\"data_dir\"] + \"/\" + subject_name + \"/sess_\"+ sess+ \"/\" + run_name + \"/*trial.dat\")[0]\n",
    "            trial_df=pd.read_csv(trial_filename,delimiter=\" \")\n",
    "            trial_df[\"remove_trial\"]=0;trial_df[\"remove_seq\"]=0;trial_df[\"run_name\"]=run_name\n",
    "            trial_df_new=trial_df[[\"subject\",\"run_name\",\"trial\",\"remove_trial\",\"remove_seq\",\"trialInSeq\",\"seqInBlock\",\"block\",\"target.angle\",\"targetHit\",\"t.move\",\"t.hit\"]] \n",
    "            output_file=trial_filename.split(\".\")[0] + \"filter.csv\"\n",
    "            if not os.path.exists(output_file):\n",
    "                trial_df_new.to_csv(output_file, index=False)"
   ]
  },
  {
   "cell_type": "code",
   "execution_count": null,
   "metadata": {},
   "outputs": [],
   "source": []
  }
 ],
 "metadata": {
  "kernelspec": {
   "display_name": "Python 3",
   "language": "python",
   "name": "python3"
  },
  "language_info": {
   "codemirror_mode": {
    "name": "ipython",
    "version": 3
   },
   "file_extension": ".py",
   "mimetype": "text/x-python",
   "name": "python",
   "nbconvert_exporter": "python",
   "pygments_lexer": "ipython3",
   "version": "3.6.9"
  }
 },
 "nbformat": 4,
 "nbformat_minor": 5
}
